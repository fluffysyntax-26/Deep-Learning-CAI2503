{
  "cells": [
    {
      "cell_type": "markdown",
      "metadata": {
        "id": "yGa1sNUe_oLd"
      },
      "source": [
        "###Deep Learning Lab Manual CAI2503, Prepared By IC: Pakruddin.B, Asst.Prof., PSCSE,PU. 2025-26"
      ]
    },
    {
      "cell_type": "markdown",
      "metadata": {
        "id": "_nqNMc7qGVx_"
      },
      "source": [
        "### Lab 5: Backpropagation from Scratch (NumPy)\n",
        "# --------------------------------------------\n",
        "Objective: Implement forward and backward propagation manually for a 1-hidden-layer NN\n",
        "\n",
        "Duration: ~2 hours\n",
        "\n",
        "###What Students Will Learn\n",
        "How forward and backward propagation work mathematically.\n",
        "\n",
        "How weight updates happen via gradient descent.\n",
        "\n",
        "Importance of activation functions in non-linear decision boundaries.\n",
        "\n",
        "Why XOR requires non-linear separation.\n",
        "\n",
        "###Expected Outputs\n",
        "Loss decreasing over epochs in the plot.\n",
        "\n",
        "Network correctly predicting XOR outputs:"
      ]
    },
    {
      "cell_type": "code",
      "execution_count": 1,
      "metadata": {},
      "outputs": [],
      "source": [
        "import numpy as np\n",
        "import matplotlib.pyplot as plt"
      ]
    },
    {
      "cell_type": "code",
      "execution_count": 2,
      "metadata": {},
      "outputs": [],
      "source": [
        "# 1. Create a small synthetic dataset (XOR-like)\n",
        "np.random.seed(42)\n",
        "X = np.array([\n",
        "    [0, 0],\n",
        "    [0, 1],\n",
        "    [1, 0],\n",
        "    [1, 1]\n",
        "])\n",
        "y = np.array([[0], [1], [1], [0]])  # XOR output"
      ]
    },
    {
      "cell_type": "code",
      "execution_count": 3,
      "metadata": {},
      "outputs": [],
      "source": [
        "# 2. Define network architecture\n",
        "input_size = 2\n",
        "hidden_size = 2\n",
        "output_size = 1\n",
        "learning_rate = 0.1\n",
        "epochs = 5000"
      ]
    },
    {
      "cell_type": "code",
      "execution_count": 4,
      "metadata": {},
      "outputs": [],
      "source": [
        "# 3. Initialize weights & biases\n",
        "W1 = np.random.randn(input_size, hidden_size)\n",
        "b1 = np.zeros((1, hidden_size))\n",
        "W2 = np.random.randn(hidden_size, output_size)\n",
        "b2 = np.zeros((1, output_size))\n",
        "\n",
        "# Activation functions and derivatives\n",
        "def sigmoid(z):\n",
        "    return 1 / (1 + np.exp(-z))\n",
        "\n",
        "def sigmoid_derivative(a):\n",
        "    return a * (1 - a)"
      ]
    },
    {
      "cell_type": "code",
      "execution_count": 5,
      "metadata": {},
      "outputs": [
        {
          "name": "stdout",
          "output_type": "stream",
          "text": [
            "Epoch 500/5000 - Loss: 0.249826\n",
            "Epoch 1000/5000 - Loss: 0.249407\n",
            "Epoch 1500/5000 - Loss: 0.248448\n",
            "Epoch 2000/5000 - Loss: 0.245455\n",
            "Epoch 2500/5000 - Loss: 0.234269\n",
            "Epoch 3000/5000 - Loss: 0.204780\n",
            "Epoch 3500/5000 - Loss: 0.172087\n",
            "Epoch 4000/5000 - Loss: 0.153230\n",
            "Epoch 4500/5000 - Loss: 0.143812\n",
            "Epoch 5000/5000 - Loss: 0.138699\n"
          ]
        }
      ],
      "source": [
        "# 4. Training loop\n",
        "loss_history = []\n",
        "for epoch in range(epochs):\n",
        "    # Forward pass\n",
        "    z1 = np.dot(X, W1) + b1\n",
        "    a1 = sigmoid(z1)\n",
        "    z2 = np.dot(a1, W2) + b2\n",
        "    a2 = sigmoid(z2)  # prediction\n",
        "\n",
        "    # Compute loss (MSE)\n",
        "    loss = np.mean((y - a2) ** 2)\n",
        "    loss_history.append(loss)\n",
        "\n",
        "    # Backward pass\n",
        "    d_a2 = -(y - a2)  # derivative of MSE w.r.t. a2\n",
        "    d_z2 = d_a2 * sigmoid_derivative(a2)  # shape: (4,1)\n",
        "    d_W2 = np.dot(a1.T, d_z2)\n",
        "    d_b2 = np.sum(d_z2, axis=0, keepdims=True)\n",
        "\n",
        "    d_a1 = np.dot(d_z2, W2.T)\n",
        "    d_z1 = d_a1 * sigmoid_derivative(a1)\n",
        "    d_W1 = np.dot(X.T, d_z1)\n",
        "    d_b1 = np.sum(d_z1, axis=0, keepdims=True)\n",
        "\n",
        "    # Parameter update\n",
        "    W1 -= learning_rate * d_W1\n",
        "    b1 -= learning_rate * d_b1\n",
        "    W2 -= learning_rate * d_W2\n",
        "    b2 -= learning_rate * d_b2\n",
        "\n",
        "    # Print progress occasionally\n",
        "    if (epoch+1) % 500 == 0:\n",
        "        print(f\"Epoch {epoch+1}/{epochs} - Loss: {loss:.6f}\")"
      ]
    },
    {
      "cell_type": "code",
      "execution_count": 6,
      "metadata": {},
      "outputs": [
        {
          "name": "stdout",
          "output_type": "stream",
          "text": [
            "\n",
            "Final Predictions:\n",
            "Input: [0 0] - Predicted: 0 - True: 0\n",
            "Input: [0 1] - Predicted: 0 - True: 1\n",
            "Input: [1 0] - Predicted: 1 - True: 1\n",
            "Input: [1 1] - Predicted: 1 - True: 0\n"
          ]
        }
      ],
      "source": [
        "# 5. Predictions after training\n",
        "preds = (a2 > 0.5).astype(int)\n",
        "print(\"\\nFinal Predictions:\")\n",
        "for i in range(len(X)):\n",
        "    print(f\"Input: {X[i]} - Predicted: {preds[i][0]} - True: {y[i][0]}\")"
      ]
    },
    {
      "cell_type": "code",
      "execution_count": 7,
      "metadata": {
        "colab": {
          "base_uri": "https://localhost:8080/",
          "height": 688
        },
        "id": "zzAF4i3x8S7F",
        "outputId": "2f948840-1527-4d8e-c267-bcd295825ba3"
      },
      "outputs": [
        {
          "data": {
            "image/png": "[encoded data removed]",
            "text/plain": [
              "<Figure size 600x400 with 1 Axes>"
            ]
          },
          "metadata": {},
          "output_type": "display_data"
        }
      ],
      "source": [
        "# 6. Plot loss over epochs\n",
        "plt.figure(figsize=(6, 4))\n",
        "plt.plot(loss_history)\n",
        "plt.xlabel(\"Epochs\")\n",
        "plt.ylabel(\"MSE Loss\")\n",
        "plt.title(\"Training Loss over Epochs (Backprop from Scratch)\")\n",
        "plt.grid(True)\n",
        "plt.show()"
      ]
    }
  ],
  "metadata": {
    "colab": {
      "provenance": []
    },
    "kernelspec": {
      "display_name": "dlenv",
      "language": "python",
      "name": "python3"
    },
    "language_info": {
      "codemirror_mode": {
        "name": "ipython",
        "version": 3
      },
      "file_extension": ".py",
      "mimetype": "text/x-python",
      "name": "python",
      "nbconvert_exporter": "python",
      "pygments_lexer": "ipython3",
      "version": "3.11.5"
    }
  },
  "nbformat": 4,
  "nbformat_minor": 0
}
