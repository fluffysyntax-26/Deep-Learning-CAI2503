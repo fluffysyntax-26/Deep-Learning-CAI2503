{
 "cells": [
  {
   "cell_type": "code",
   "execution_count": 1,
   "metadata": {
    "executionInfo": {
     "elapsed": 2,
     "status": "ok",
     "timestamp": 1756093837418,
     "user": {
      "displayName": "Nyctea Kryfos",
      "userId": "16859221997824721788"
     },
     "user_tz": -330
    },
    "id": "2kz0OxBFHbuf"
   },
   "outputs": [
    {
     "ename": "ModuleNotFoundError",
     "evalue": "No module named 'tensorflow'",
     "output_type": "error",
     "traceback": [
      "\u001b[31m---------------------------------------------------------------------------\u001b[39m",
      "\u001b[31mModuleNotFoundError\u001b[39m                       Traceback (most recent call last)",
      "\u001b[36mCell\u001b[39m\u001b[36m \u001b[39m\u001b[32mIn[1]\u001b[39m\u001b[32m, line 2\u001b[39m\n\u001b[32m      1\u001b[39m \u001b[38;5;28;01mimport\u001b[39;00m\u001b[38;5;250m \u001b[39m\u001b[34;01mnumpy\u001b[39;00m\u001b[38;5;250m \u001b[39m\u001b[38;5;28;01mas\u001b[39;00m\u001b[38;5;250m \u001b[39m\u001b[34;01mnp\u001b[39;00m\n\u001b[32m----> \u001b[39m\u001b[32m2\u001b[39m \u001b[38;5;28;01mimport\u001b[39;00m\u001b[38;5;250m \u001b[39m\u001b[34;01mtensorflow\u001b[39;00m\u001b[38;5;250m \u001b[39m\u001b[38;5;28;01mas\u001b[39;00m\u001b[38;5;250m \u001b[39m\u001b[34;01mtf\u001b[39;00m\n\u001b[32m      3\u001b[39m \u001b[38;5;28;01mfrom\u001b[39;00m\u001b[38;5;250m \u001b[39m\u001b[34;01mtensorflow\u001b[39;00m\u001b[34;01m.\u001b[39;00m\u001b[34;01mkeras\u001b[39;00m\u001b[38;5;250m \u001b[39m\u001b[38;5;28;01mimport\u001b[39;00m layers, models\n\u001b[32m      4\u001b[39m \u001b[38;5;28;01mimport\u001b[39;00m\u001b[38;5;250m \u001b[39m\u001b[34;01mmatplotlib\u001b[39;00m\u001b[34;01m.\u001b[39;00m\u001b[34;01mpyplot\u001b[39;00m\u001b[38;5;250m \u001b[39m\u001b[38;5;28;01mas\u001b[39;00m\u001b[38;5;250m \u001b[39m\u001b[34;01mplt\u001b[39;00m\n",
      "\u001b[31mModuleNotFoundError\u001b[39m: No module named 'tensorflow'"
     ]
    }
   ],
   "source": [
    "import numpy as np\n",
    "import tensorflow as tf\n",
    "from tensorflow.keras import layers, models\n",
    "import matplotlib.pyplot as plt"
   ]
  },
  {
   "cell_type": "markdown",
   "metadata": {
    "id": "peu7vvUhJFN3"
   },
   "source": [
    "Build and train a simple fully connected network on the MNSIT dataset"
   ]
  },
  {
   "cell_type": "code",
   "execution_count": 2,
   "metadata": {
    "colab": {
     "base_uri": "https://localhost:8080/"
    },
    "executionInfo": {
     "elapsed": 2040,
     "status": "ok",
     "timestamp": 1756092983078,
     "user": {
      "displayName": "Nyctea Kryfos",
      "userId": "16859221997824721788"
     },
     "user_tz": -330
    },
    "id": "OBGfR5wWJMqu",
    "outputId": "bc06138b-753b-47ad-973f-052ed4383a2e"
   },
   "outputs": [
    {
     "ename": "NameError",
     "evalue": "name 'tf' is not defined",
     "output_type": "error",
     "traceback": [
      "\u001b[31m---------------------------------------------------------------------------\u001b[39m",
      "\u001b[31mNameError\u001b[39m                                 Traceback (most recent call last)",
      "\u001b[36mCell\u001b[39m\u001b[36m \u001b[39m\u001b[32mIn[2]\u001b[39m\u001b[32m, line 2\u001b[39m\n\u001b[32m      1\u001b[39m \u001b[38;5;66;03m# 1. Load and preprocess MNSIT dataset\u001b[39;00m\n\u001b[32m----> \u001b[39m\u001b[32m2\u001b[39m (x_train, y_train), (x_test, y_test) = \u001b[43mtf\u001b[49m.keras.datasets.mnist.load_data()\n\u001b[32m      4\u001b[39m \u001b[38;5;66;03m# Normalise pixel values to [0, 1]\u001b[39;00m\n\u001b[32m      5\u001b[39m x_train = x_train.astype(\u001b[33m'\u001b[39m\u001b[33mfloat32\u001b[39m\u001b[33m'\u001b[39m) / \u001b[32m255.0\u001b[39m\n",
      "\u001b[31mNameError\u001b[39m: name 'tf' is not defined"
     ]
    }
   ],
   "source": [
    "# 1. Load and preprocess MNSIT dataset\n",
    "(x_train, y_train), (x_test, y_test) = tf.keras.datasets.mnist.load_data()\n",
    "\n",
    "# Normalise pixel values to [0, 1]\n",
    "x_train = x_train.astype('float32') / 255.0\n",
    "x_test = x_test.astype('float32') / 255.0\n",
    "\n",
    "# Flatten 28x28 images into vectors of 784\n",
    "x_train = x_train.reshape(-1, 784)\n",
    "x_test = x_test.reshape(-1, 784)\n",
    "\n",
    "y_train.shape\n"
   ]
  },
  {
   "cell_type": "code",
   "execution_count": null,
   "metadata": {
    "colab": {
     "base_uri": "https://localhost:8080/",
     "height": 238
    },
    "executionInfo": {
     "elapsed": 31,
     "status": "ok",
     "timestamp": 1756092983089,
     "user": {
      "displayName": "Nyctea Kryfos",
      "userId": "16859221997824721788"
     },
     "user_tz": -330
    },
    "id": "2cDCcQ-JK1uh",
    "outputId": "1b26075c-1d61-4614-df55-98daec4719fa"
   },
   "outputs": [],
   "source": [
    "# 2. Define MLP Model\n",
    "model = models.Sequential([\n",
    "    layers.Input(shape=(784,)),\n",
    "    layers.Dense(128, activation='relu'),\n",
    "    layers.Dense(64, activation='relu'),\n",
    "    layers.Dense(10, activation='softmax')\n",
    "])\n",
    "\n",
    "model.summary()"
   ]
  },
  {
   "cell_type": "code",
   "execution_count": null,
   "metadata": {
    "executionInfo": {
     "elapsed": 6,
     "status": "ok",
     "timestamp": 1756092983096,
     "user": {
      "displayName": "Nyctea Kryfos",
      "userId": "16859221997824721788"
     },
     "user_tz": -330
    },
    "id": "UO3lmVk4Tq8y"
   },
   "outputs": [],
   "source": [
    "# 3. Compile Model\n",
    "model.compile(optimizer='adam',\n",
    "              loss='sparse_categorical_crossentropy',\n",
    "              metrics=['accuracy'])"
   ]
  },
  {
   "cell_type": "code",
   "execution_count": null,
   "metadata": {
    "colab": {
     "base_uri": "https://localhost:8080/"
    },
    "executionInfo": {
     "elapsed": 44289,
     "status": "ok",
     "timestamp": 1756093027386,
     "user": {
      "displayName": "Nyctea Kryfos",
      "userId": "16859221997824721788"
     },
     "user_tz": -330
    },
    "id": "8Ib4JpTIrpWP",
    "outputId": "37eed0f7-42bf-4bbd-bac3-7b4307b0c8f0"
   },
   "outputs": [],
   "source": [
    "# 4. Train the Model\n",
    "history = model.fit(x_train, y_train, epochs=10, batch_size=64, validation_split=0.2, verbose=1)"
   ]
  },
  {
   "cell_type": "code",
   "execution_count": null,
   "metadata": {
    "colab": {
     "base_uri": "https://localhost:8080/"
    },
    "executionInfo": {
     "elapsed": 481,
     "status": "ok",
     "timestamp": 1756093028138,
     "user": {
      "displayName": "Nyctea Kryfos",
      "userId": "16859221997824721788"
     },
     "user_tz": -330
    },
    "id": "KTziUIrUsGNI",
    "outputId": "a11436e4-b943-4f0b-fad4-baf5a843b8c3"
   },
   "outputs": [],
   "source": [
    "# 5. Evaluate on test set\n",
    "test_loss, test_acc = model.evaluate(x_test, y_test, verbose=0)\n",
    "print(f'\\nTest accuracy: {test_acc:.4f}')\n",
    "print(f'Test loss: {test_loss:.4f}')"
   ]
  },
  {
   "cell_type": "code",
   "execution_count": null,
   "metadata": {
    "colab": {
     "base_uri": "https://localhost:8080/",
     "height": 388
    },
    "executionInfo": {
     "elapsed": 466,
     "status": "ok",
     "timestamp": 1756093028605,
     "user": {
      "displayName": "Nyctea Kryfos",
      "userId": "16859221997824721788"
     },
     "user_tz": -330
    },
    "id": "82KiaQvbS2-o",
    "outputId": "af05361a-0480-4aa5-9fea-e0708c83897a"
   },
   "outputs": [],
   "source": [
    "# 6. Plot accuracy curves\n",
    "\n",
    "plt.figure(figsize=(6,4))\n",
    "plt.plot(history.history['accuracy'], label='Training Accuracy')\n",
    "plt.plot(history.history['val_accuracy'], label='Validation Accuracy')\n",
    "plt.xlabel('Epochs')\n",
    "plt.ylabel('Accuracy')\n",
    "plt.legend()\n",
    "plt.show()"
   ]
  },
  {
   "cell_type": "code",
   "execution_count": null,
   "metadata": {
    "colab": {
     "base_uri": "https://localhost:8080/",
     "height": 405
    },
    "executionInfo": {
     "elapsed": 427,
     "status": "ok",
     "timestamp": 1756093280862,
     "user": {
      "displayName": "Nyctea Kryfos",
      "userId": "16859221997824721788"
     },
     "user_tz": -330
    },
    "id": "jzvppMKuUIuJ",
    "outputId": "c2930329-abae-44c7-dcc7-6751371ecf19"
   },
   "outputs": [],
   "source": [
    "# 7. Plot loss curves\n",
    "plt.figure(figsize=(6,4))\n",
    "plt.plot(history.history['loss'], label='Training Loss')\n",
    "plt.plot(history.history['val_loss'], label='Validation Loss')\n",
    "plt.xlabel('Epochs')\n",
    "plt.ylabel('Loss')\n",
    "plt.legend()"
   ]
  },
  {
   "cell_type": "code",
   "execution_count": null,
   "metadata": {
    "colab": {
     "base_uri": "https://localhost:8080/",
     "height": 323
    },
    "executionInfo": {
     "elapsed": 1647,
     "status": "ok",
     "timestamp": 1756094189980,
     "user": {
      "displayName": "Nyctea Kryfos",
      "userId": "16859221997824721788"
     },
     "user_tz": -330
    },
    "id": "1mfzu1jpWPEY",
    "outputId": "a0224cad-8a23-4c57-b2d2-6af5c2109870"
   },
   "outputs": [],
   "source": [
    "# 8. Make Predictions and display some results\n",
    "predictions = model.predict(x_test)\n",
    "pred_labels = np.argmax(predictions, axis=1)\n",
    "\n",
    "# Show first 10 test images. predicted labels, and true labels\n",
    "plt.figure(figsize=(10, 3))\n",
    "for i in range(10):\n",
    "  plt.subplot(2, 5, i+1)\n",
    "  plt.imshow(x_test[i].reshape(28, 28), cmap='gray')\n",
    "  plt.title(f'Pred: {pred_labels[i]}, True: {y_test[i]}')\n",
    "  plt.axis('off')\n",
    "plt.tight_layout()\n",
    "plt.show()"
   ]
  }
 ],
 "metadata": {
  "colab": {
   "authorship_tag": "ABX9TyOrSsOeDvOGF80fwtHWXOr3",
   "provenance": []
  },
  "kernelspec": {
   "display_name": "genenv",
   "language": "python",
   "name": "python3"
  },
  "language_info": {
   "codemirror_mode": {
    "name": "ipython",
    "version": 3
   },
   "file_extension": ".py",
   "mimetype": "text/x-python",
   "name": "python",
   "nbconvert_exporter": "python",
   "pygments_lexer": "ipython3",
   "version": "3.13.5"
  }
 },
 "nbformat": 4,
 "nbformat_minor": 0
}
